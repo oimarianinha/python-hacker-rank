{
  "nbformat": 4,
  "nbformat_minor": 0,
  "metadata": {
    "colab": {
      "provenance": []
    },
    "kernelspec": {
      "name": "python3",
      "display_name": "Python 3"
    },
    "language_info": {
      "name": "python"
    }
  },
  "cells": [
    {
      "cell_type": "markdown",
      "source": [
        "**Say \"Hello, World!\"**"
      ],
      "metadata": {
        "id": "oQu03JNmATY_"
      }
    },
    {
      "cell_type": "code",
      "execution_count": 1,
      "metadata": {
        "colab": {
          "base_uri": "https://localhost:8080/"
        },
        "id": "DxT-8Znt-5xt",
        "outputId": "5483f27a-89e9-4543-c5d0-e6e9d7d12e6f"
      },
      "outputs": [
        {
          "output_type": "stream",
          "name": "stdout",
          "text": [
            "Hello, World!\n"
          ]
        }
      ],
      "source": [
        "if __name__ == '__main__':\n",
        "    print(\"Hello, World!\")"
      ]
    },
    {
      "cell_type": "markdown",
      "source": [
        "**Python If-Else**"
      ],
      "metadata": {
        "id": "4xtUB1UyAXb-"
      }
    },
    {
      "cell_type": "code",
      "source": [
        "#!/bin/python3\n",
        "\n",
        "import math\n",
        "import os\n",
        "import random\n",
        "import re\n",
        "import sys\n",
        "\n",
        "def if_else(n):\n",
        "    if n % 2 != 0:\n",
        "        print(\"Weird\")\n",
        "    elif n % 2 == 0 and 2 <= n <= 5:\n",
        "        print(\"Not Weird\")\n",
        "    elif n % 2 == 0 and 6 <= n <= 20:\n",
        "        print(\"Weird\")\n",
        "    else:\n",
        "        print(\"Not Weird\")\n",
        "\n",
        "if __name__ == '__main__':\n",
        "    n = int(input().strip())\n",
        "    if_else(n)\n"
      ],
      "metadata": {
        "colab": {
          "base_uri": "https://localhost:8080/"
        },
        "id": "RcKEdPXzA2zI",
        "outputId": "73c9eebe-db35-4185-aea9-dd184271fc44"
      },
      "execution_count": 2,
      "outputs": [
        {
          "output_type": "stream",
          "name": "stdout",
          "text": [
            "5\n",
            "Weird\n"
          ]
        }
      ]
    },
    {
      "cell_type": "markdown",
      "source": [
        "**Arithmetic Operators**\n"
      ],
      "metadata": {
        "id": "lr0-WtpWAZD0"
      }
    },
    {
      "cell_type": "code",
      "source": [
        "def arithmetic_operations(a, b):\n",
        "\n",
        "    sum = a + b\n",
        "    difference = a - b\n",
        "    product = a * b\n",
        "\n",
        "    print(sum)\n",
        "    print(difference)\n",
        "    print(product)\n",
        "\n",
        "if __name__ == \"__main__\":\n",
        "    a = int(input())\n",
        "    b = int(input())\n",
        "\n",
        "    arithmetic_operations(a, b)"
      ],
      "metadata": {
        "colab": {
          "base_uri": "https://localhost:8080/"
        },
        "id": "xccW-YbTBQID",
        "outputId": "dedff5b4-8fdb-43c1-d129-e3a1f73bb738"
      },
      "execution_count": 3,
      "outputs": [
        {
          "output_type": "stream",
          "name": "stdout",
          "text": [
            "1\n",
            "2\n",
            "3\n",
            "-1\n",
            "2\n"
          ]
        }
      ]
    },
    {
      "cell_type": "markdown",
      "source": [
        "**Python: Division**"
      ],
      "metadata": {
        "id": "VTFt-lIHAdaE"
      }
    },
    {
      "cell_type": "code",
      "source": [
        "def division(a, b):\n",
        "\n",
        "    division = (a / b)\n",
        "\n",
        "    print(int(division))\n",
        "    print(float(division))\n",
        "\n",
        "if __name__ == \"__main__\":\n",
        "    a = int(input())\n",
        "    b = int(input())\n",
        "\n",
        "    division(a, b)"
      ],
      "metadata": {
        "colab": {
          "base_uri": "https://localhost:8080/"
        },
        "id": "r5CRX_wrBPkP",
        "outputId": "a8f17f75-c99c-4b28-d576-0a3063f3b248"
      },
      "execution_count": 4,
      "outputs": [
        {
          "output_type": "stream",
          "name": "stdout",
          "text": [
            "1\n",
            "2\n",
            "0\n",
            "0.5\n"
          ]
        }
      ]
    },
    {
      "cell_type": "markdown",
      "source": [
        "**Loops**"
      ],
      "metadata": {
        "id": "WhcKN6uzAetH"
      }
    },
    {
      "cell_type": "code",
      "source": [
        "def loop(n):\n",
        "    for i in range(n):\n",
        "        print(i**2)\n",
        "\n",
        "\n",
        "if __name__ == '__main__':\n",
        "    n = int(input())\n",
        "\n",
        "    loop(n)"
      ],
      "metadata": {
        "colab": {
          "base_uri": "https://localhost:8080/"
        },
        "id": "XVwLHvXcBXXL",
        "outputId": "a2ee1a4e-0c28-4e46-f696-69f1654e4152"
      },
      "execution_count": 5,
      "outputs": [
        {
          "output_type": "stream",
          "name": "stdout",
          "text": [
            "4\n",
            "0\n",
            "1\n",
            "4\n",
            "9\n"
          ]
        }
      ]
    },
    {
      "cell_type": "markdown",
      "source": [
        "**Write a function**"
      ],
      "metadata": {
        "id": "1XLr1k60AgoN"
      }
    },
    {
      "cell_type": "code",
      "source": [
        "def is_leap(year):\n",
        "    leap = False\n",
        "\n",
        "    if year % 4 == 0:\n",
        "        if year % 100 == 0:\n",
        "            if year % 400 == 0:\n",
        "                leap = True\n",
        "            else:\n",
        "                leap = False\n",
        "        else:\n",
        "            leap = True\n",
        "    else:\n",
        "        leap = False\n",
        "\n",
        "    return leap"
      ],
      "metadata": {
        "id": "tc__0VgjBX8d"
      },
      "execution_count": 6,
      "outputs": []
    },
    {
      "cell_type": "markdown",
      "source": [
        "**Print Function**"
      ],
      "metadata": {
        "id": "UImFaRo8Ah6V"
      }
    },
    {
      "cell_type": "code",
      "source": [
        "def print_numbers(n):\n",
        "    output_string = \"\"\n",
        "    for i in range(1, n+1):\n",
        "        output_string += str(i)\n",
        "    print(output_string)\n",
        "\n",
        "if __name__ == '__main__':\n",
        "    n = int(input())\n",
        "\n",
        "    print_numbers(n)"
      ],
      "metadata": {
        "colab": {
          "base_uri": "https://localhost:8080/"
        },
        "id": "83z9HWXtBa5e",
        "outputId": "46f9c0ce-f52e-48bd-9002-6be8e56e9374"
      },
      "execution_count": 7,
      "outputs": [
        {
          "output_type": "stream",
          "name": "stdout",
          "text": [
            "5\n",
            "12345\n"
          ]
        }
      ]
    },
    {
      "cell_type": "markdown",
      "source": [
        "**List Comprehensions**"
      ],
      "metadata": {
        "id": "j6KVZHFJAjEN"
      }
    },
    {
      "cell_type": "code",
      "source": [
        "def print_lexicographic_order(x, y, z, n):\n",
        "    print(list([i,j,k] for i in range(x + 1) for j in range(y + 1) for k in range(z + 1) if i + j + k != n))\n",
        "\n",
        "if __name__ == '__main__':\n",
        "    x = int(input())\n",
        "    y = int(input())\n",
        "    z = int(input())\n",
        "    n = int(input())\n",
        "\n",
        "    print_lexicographic_order(x, y, z, n)"
      ],
      "metadata": {
        "colab": {
          "base_uri": "https://localhost:8080/"
        },
        "id": "58QfsnXfBbbk",
        "outputId": "fb3f83e4-eb5e-40cb-ddd9-608548a5a7b0"
      },
      "execution_count": 8,
      "outputs": [
        {
          "output_type": "stream",
          "name": "stdout",
          "text": [
            "6\n",
            "7\n",
            "5\n",
            "3\n",
            "[[0, 0, 0], [0, 0, 1], [0, 0, 2], [0, 0, 4], [0, 0, 5], [0, 1, 0], [0, 1, 1], [0, 1, 3], [0, 1, 4], [0, 1, 5], [0, 2, 0], [0, 2, 2], [0, 2, 3], [0, 2, 4], [0, 2, 5], [0, 3, 1], [0, 3, 2], [0, 3, 3], [0, 3, 4], [0, 3, 5], [0, 4, 0], [0, 4, 1], [0, 4, 2], [0, 4, 3], [0, 4, 4], [0, 4, 5], [0, 5, 0], [0, 5, 1], [0, 5, 2], [0, 5, 3], [0, 5, 4], [0, 5, 5], [0, 6, 0], [0, 6, 1], [0, 6, 2], [0, 6, 3], [0, 6, 4], [0, 6, 5], [0, 7, 0], [0, 7, 1], [0, 7, 2], [0, 7, 3], [0, 7, 4], [0, 7, 5], [1, 0, 0], [1, 0, 1], [1, 0, 3], [1, 0, 4], [1, 0, 5], [1, 1, 0], [1, 1, 2], [1, 1, 3], [1, 1, 4], [1, 1, 5], [1, 2, 1], [1, 2, 2], [1, 2, 3], [1, 2, 4], [1, 2, 5], [1, 3, 0], [1, 3, 1], [1, 3, 2], [1, 3, 3], [1, 3, 4], [1, 3, 5], [1, 4, 0], [1, 4, 1], [1, 4, 2], [1, 4, 3], [1, 4, 4], [1, 4, 5], [1, 5, 0], [1, 5, 1], [1, 5, 2], [1, 5, 3], [1, 5, 4], [1, 5, 5], [1, 6, 0], [1, 6, 1], [1, 6, 2], [1, 6, 3], [1, 6, 4], [1, 6, 5], [1, 7, 0], [1, 7, 1], [1, 7, 2], [1, 7, 3], [1, 7, 4], [1, 7, 5], [2, 0, 0], [2, 0, 2], [2, 0, 3], [2, 0, 4], [2, 0, 5], [2, 1, 1], [2, 1, 2], [2, 1, 3], [2, 1, 4], [2, 1, 5], [2, 2, 0], [2, 2, 1], [2, 2, 2], [2, 2, 3], [2, 2, 4], [2, 2, 5], [2, 3, 0], [2, 3, 1], [2, 3, 2], [2, 3, 3], [2, 3, 4], [2, 3, 5], [2, 4, 0], [2, 4, 1], [2, 4, 2], [2, 4, 3], [2, 4, 4], [2, 4, 5], [2, 5, 0], [2, 5, 1], [2, 5, 2], [2, 5, 3], [2, 5, 4], [2, 5, 5], [2, 6, 0], [2, 6, 1], [2, 6, 2], [2, 6, 3], [2, 6, 4], [2, 6, 5], [2, 7, 0], [2, 7, 1], [2, 7, 2], [2, 7, 3], [2, 7, 4], [2, 7, 5], [3, 0, 1], [3, 0, 2], [3, 0, 3], [3, 0, 4], [3, 0, 5], [3, 1, 0], [3, 1, 1], [3, 1, 2], [3, 1, 3], [3, 1, 4], [3, 1, 5], [3, 2, 0], [3, 2, 1], [3, 2, 2], [3, 2, 3], [3, 2, 4], [3, 2, 5], [3, 3, 0], [3, 3, 1], [3, 3, 2], [3, 3, 3], [3, 3, 4], [3, 3, 5], [3, 4, 0], [3, 4, 1], [3, 4, 2], [3, 4, 3], [3, 4, 4], [3, 4, 5], [3, 5, 0], [3, 5, 1], [3, 5, 2], [3, 5, 3], [3, 5, 4], [3, 5, 5], [3, 6, 0], [3, 6, 1], [3, 6, 2], [3, 6, 3], [3, 6, 4], [3, 6, 5], [3, 7, 0], [3, 7, 1], [3, 7, 2], [3, 7, 3], [3, 7, 4], [3, 7, 5], [4, 0, 0], [4, 0, 1], [4, 0, 2], [4, 0, 3], [4, 0, 4], [4, 0, 5], [4, 1, 0], [4, 1, 1], [4, 1, 2], [4, 1, 3], [4, 1, 4], [4, 1, 5], [4, 2, 0], [4, 2, 1], [4, 2, 2], [4, 2, 3], [4, 2, 4], [4, 2, 5], [4, 3, 0], [4, 3, 1], [4, 3, 2], [4, 3, 3], [4, 3, 4], [4, 3, 5], [4, 4, 0], [4, 4, 1], [4, 4, 2], [4, 4, 3], [4, 4, 4], [4, 4, 5], [4, 5, 0], [4, 5, 1], [4, 5, 2], [4, 5, 3], [4, 5, 4], [4, 5, 5], [4, 6, 0], [4, 6, 1], [4, 6, 2], [4, 6, 3], [4, 6, 4], [4, 6, 5], [4, 7, 0], [4, 7, 1], [4, 7, 2], [4, 7, 3], [4, 7, 4], [4, 7, 5], [5, 0, 0], [5, 0, 1], [5, 0, 2], [5, 0, 3], [5, 0, 4], [5, 0, 5], [5, 1, 0], [5, 1, 1], [5, 1, 2], [5, 1, 3], [5, 1, 4], [5, 1, 5], [5, 2, 0], [5, 2, 1], [5, 2, 2], [5, 2, 3], [5, 2, 4], [5, 2, 5], [5, 3, 0], [5, 3, 1], [5, 3, 2], [5, 3, 3], [5, 3, 4], [5, 3, 5], [5, 4, 0], [5, 4, 1], [5, 4, 2], [5, 4, 3], [5, 4, 4], [5, 4, 5], [5, 5, 0], [5, 5, 1], [5, 5, 2], [5, 5, 3], [5, 5, 4], [5, 5, 5], [5, 6, 0], [5, 6, 1], [5, 6, 2], [5, 6, 3], [5, 6, 4], [5, 6, 5], [5, 7, 0], [5, 7, 1], [5, 7, 2], [5, 7, 3], [5, 7, 4], [5, 7, 5], [6, 0, 0], [6, 0, 1], [6, 0, 2], [6, 0, 3], [6, 0, 4], [6, 0, 5], [6, 1, 0], [6, 1, 1], [6, 1, 2], [6, 1, 3], [6, 1, 4], [6, 1, 5], [6, 2, 0], [6, 2, 1], [6, 2, 2], [6, 2, 3], [6, 2, 4], [6, 2, 5], [6, 3, 0], [6, 3, 1], [6, 3, 2], [6, 3, 3], [6, 3, 4], [6, 3, 5], [6, 4, 0], [6, 4, 1], [6, 4, 2], [6, 4, 3], [6, 4, 4], [6, 4, 5], [6, 5, 0], [6, 5, 1], [6, 5, 2], [6, 5, 3], [6, 5, 4], [6, 5, 5], [6, 6, 0], [6, 6, 1], [6, 6, 2], [6, 6, 3], [6, 6, 4], [6, 6, 5], [6, 7, 0], [6, 7, 1], [6, 7, 2], [6, 7, 3], [6, 7, 4], [6, 7, 5]]\n"
          ]
        }
      ]
    },
    {
      "cell_type": "markdown",
      "source": [
        "**Nested Lists**"
      ],
      "metadata": {
        "id": "Cp8ALrCTAkZk"
      }
    },
    {
      "cell_type": "code",
      "source": [
        "if __name__ == '__main__':\n",
        "    alist = []\n",
        "    for i in range(int(input())):\n",
        "        name = input()\n",
        "        score = float(input())\n",
        "        alist.append([name, score])\n",
        "second_highest = sorted(set([score for name, score in alist]))[1]\n",
        "print('\\n'.join(sorted([name for name, score in alist if score == second_highest])))"
      ],
      "metadata": {
        "colab": {
          "base_uri": "https://localhost:8080/",
          "height": 228
        },
        "id": "lDT4oDEJBb3y",
        "outputId": "030942f8-9852-474a-c12f-994c394689a4"
      },
      "execution_count": 22,
      "outputs": [
        {
          "name": "stdout",
          "output_type": "stream",
          "text": [
            "5 Harry 37.21 Berry 37.21 Tina 37.2 Akriti 41 Harsh 39\n"
          ]
        },
        {
          "output_type": "error",
          "ename": "ValueError",
          "evalue": "invalid literal for int() with base 10: '5 Harry 37.21 Berry 37.21 Tina 37.2 Akriti 41 Harsh 39'",
          "traceback": [
            "\u001b[0;31m---------------------------------------------------------------------------\u001b[0m",
            "\u001b[0;31mValueError\u001b[0m                                Traceback (most recent call last)",
            "\u001b[0;32m<ipython-input-22-22a718f7ca00>\u001b[0m in \u001b[0;36m<cell line: 1>\u001b[0;34m()\u001b[0m\n\u001b[1;32m      1\u001b[0m \u001b[0;32mif\u001b[0m \u001b[0m__name__\u001b[0m \u001b[0;34m==\u001b[0m \u001b[0;34m'__main__'\u001b[0m\u001b[0;34m:\u001b[0m\u001b[0;34m\u001b[0m\u001b[0;34m\u001b[0m\u001b[0m\n\u001b[1;32m      2\u001b[0m     \u001b[0malist\u001b[0m \u001b[0;34m=\u001b[0m \u001b[0;34m[\u001b[0m\u001b[0;34m]\u001b[0m\u001b[0;34m\u001b[0m\u001b[0;34m\u001b[0m\u001b[0m\n\u001b[0;32m----> 3\u001b[0;31m     \u001b[0;32mfor\u001b[0m \u001b[0mi\u001b[0m \u001b[0;32min\u001b[0m \u001b[0mrange\u001b[0m\u001b[0;34m(\u001b[0m\u001b[0mint\u001b[0m\u001b[0;34m(\u001b[0m\u001b[0minput\u001b[0m\u001b[0;34m(\u001b[0m\u001b[0;34m)\u001b[0m\u001b[0;34m)\u001b[0m\u001b[0;34m)\u001b[0m\u001b[0;34m:\u001b[0m\u001b[0;34m\u001b[0m\u001b[0;34m\u001b[0m\u001b[0m\n\u001b[0m\u001b[1;32m      4\u001b[0m         \u001b[0mname\u001b[0m \u001b[0;34m=\u001b[0m \u001b[0minput\u001b[0m\u001b[0;34m(\u001b[0m\u001b[0;34m)\u001b[0m\u001b[0;34m\u001b[0m\u001b[0;34m\u001b[0m\u001b[0m\n\u001b[1;32m      5\u001b[0m         \u001b[0mscore\u001b[0m \u001b[0;34m=\u001b[0m \u001b[0mfloat\u001b[0m\u001b[0;34m(\u001b[0m\u001b[0minput\u001b[0m\u001b[0;34m(\u001b[0m\u001b[0;34m)\u001b[0m\u001b[0;34m)\u001b[0m\u001b[0;34m\u001b[0m\u001b[0;34m\u001b[0m\u001b[0m\n",
            "\u001b[0;31mValueError\u001b[0m: invalid literal for int() with base 10: '5 Harry 37.21 Berry 37.21 Tina 37.2 Akriti 41 Harsh 39'"
          ]
        }
      ]
    },
    {
      "cell_type": "markdown",
      "source": [
        "**sWAP cASE**"
      ],
      "metadata": {
        "id": "hBQsMCX2Aliq"
      }
    },
    {
      "cell_type": "code",
      "source": [
        "def swap_case(s):\n",
        "    string = \"\"\n",
        "    for i in s:\n",
        "        if i.isupper() == True:\n",
        "            string+=(i.lower())\n",
        "        else:\n",
        "            string+=(i.upper())\n",
        "    return string\n",
        "\n",
        "if __name__ == '__main__':\n",
        "    s = input()\n",
        "    result = swap_case(s)\n",
        "    print(result)"
      ],
      "metadata": {
        "colab": {
          "base_uri": "https://localhost:8080/"
        },
        "id": "g1n_DpMeBcWY",
        "outputId": "2c089d79-6d92-4bd6-b3b7-dde43c4e903b"
      },
      "execution_count": 15,
      "outputs": [
        {
          "output_type": "stream",
          "name": "stdout",
          "text": [
            "abc\n",
            "ABC\n"
          ]
        }
      ]
    },
    {
      "cell_type": "markdown",
      "source": [
        "\n",
        "**String Split and Join**"
      ],
      "metadata": {
        "id": "UuEiSDfXAm5z"
      }
    },
    {
      "cell_type": "code",
      "source": [
        "def split_and_join(line):\n",
        "    # write your code here\n",
        "    a = line.split(\" \")\n",
        "    b = \"-\".join(a)\n",
        "    return(b)\n",
        "\n",
        "\n",
        "if __name__ == '__main__':\n",
        "    line = input()\n",
        "    result = split_and_join(line)\n",
        "    print(result)"
      ],
      "metadata": {
        "colab": {
          "base_uri": "https://localhost:8080/"
        },
        "id": "lCD-gEmlBc1X",
        "outputId": "e50d0734-eab6-4803-f0f8-6a8540a2f037"
      },
      "execution_count": 16,
      "outputs": [
        {
          "output_type": "stream",
          "name": "stdout",
          "text": [
            "mariana\n",
            "mariana\n"
          ]
        }
      ]
    },
    {
      "cell_type": "markdown",
      "source": [
        "**String Formatting**"
      ],
      "metadata": {
        "id": "_RXkv06PAoCY"
      }
    },
    {
      "cell_type": "code",
      "source": [
        "def print_formatted(number):\n",
        "    width = len(bin(number)[2:])\n",
        "    for i in range(1, number+1):\n",
        "        deci = str(i)\n",
        "        octa = oct(i)[2:]\n",
        "        hexa = hex(i)[2:].upper()\n",
        "        bina = bin(i)[2:]\n",
        "        print(deci.rjust(width),octa.rjust(width),hexa.rjust(width),bina.rjust(width))\n",
        "\n",
        "if __name__ == '__main__':\n",
        "    n = int(input())\n",
        "    print_formatted(n)"
      ],
      "metadata": {
        "colab": {
          "base_uri": "https://localhost:8080/"
        },
        "id": "gPHG4HVeBt1Z",
        "outputId": "7119d725-3fb4-4b6b-93c1-01af13660d0a"
      },
      "execution_count": 17,
      "outputs": [
        {
          "output_type": "stream",
          "name": "stdout",
          "text": [
            "17\n",
            "    1     1     1     1\n",
            "    2     2     2    10\n",
            "    3     3     3    11\n",
            "    4     4     4   100\n",
            "    5     5     5   101\n",
            "    6     6     6   110\n",
            "    7     7     7   111\n",
            "    8    10     8  1000\n",
            "    9    11     9  1001\n",
            "   10    12     A  1010\n",
            "   11    13     B  1011\n",
            "   12    14     C  1100\n",
            "   13    15     D  1101\n",
            "   14    16     E  1110\n",
            "   15    17     F  1111\n",
            "   16    20    10 10000\n",
            "   17    21    11 10001\n"
          ]
        }
      ]
    },
    {
      "cell_type": "markdown",
      "source": [
        "**Introduction to Sets**"
      ],
      "metadata": {
        "id": "ZjXxH9DgApsy"
      }
    },
    {
      "cell_type": "code",
      "source": [
        "def average(array):\n",
        "    my_set = set(array)\n",
        "    avg = sum(my_set)/len(my_set)\n",
        "\n",
        "    return (avg)\n",
        "\n",
        "if __name__ == '__main__':\n",
        "    n = int(input())\n",
        "    arr = list(map(int, input().split()))\n",
        "    result = average(arr)\n",
        "    print(result)"
      ],
      "metadata": {
        "colab": {
          "base_uri": "https://localhost:8080/"
        },
        "id": "9HgJ_hy8Bx3Z",
        "outputId": "fbc0b07c-6e49-4a6a-e311-459be06c4a3a"
      },
      "execution_count": 18,
      "outputs": [
        {
          "output_type": "stream",
          "name": "stdout",
          "text": [
            "10\n",
            "161 182 161 154 176 170 167 171 170 174\n",
            "169.375\n"
          ]
        }
      ]
    },
    {
      "cell_type": "markdown",
      "source": [
        "**Exceptions**"
      ],
      "metadata": {
        "id": "npnldlYPAqpD"
      }
    },
    {
      "cell_type": "code",
      "source": [
        "for i in range(int(input())):\n",
        "    try:\n",
        "        a, b = map(int, input().split())\n",
        "        print(int(a//b))\n",
        "    except Exception as e:\n",
        "        print(\"Error Code:\",e)"
      ],
      "metadata": {
        "colab": {
          "base_uri": "https://localhost:8080/"
        },
        "id": "eA3DJ0T_BySM",
        "outputId": "ee510247-ec2c-4bb2-98a4-bf973d1bfbad"
      },
      "execution_count": 20,
      "outputs": [
        {
          "output_type": "stream",
          "name": "stdout",
          "text": [
            "3\n",
            "1 0\n",
            "Error Code: integer division or modulo by zero\n",
            "2 &\n",
            "Error Code: invalid literal for int() with base 10: '&'\n",
            "3 1\n",
            "3\n"
          ]
        }
      ]
    },
    {
      "cell_type": "markdown",
      "source": [
        "**Arrays**"
      ],
      "metadata": {
        "id": "N9g6NAjHAspB"
      }
    },
    {
      "cell_type": "code",
      "source": [
        "import numpy\n",
        "def arrays(arr):\n",
        "    return(numpy.array(arr[::-1], float))\n",
        "\n",
        "arr = input().strip().split(' ')\n",
        "result = arrays(arr)\n",
        "print(result)"
      ],
      "metadata": {
        "colab": {
          "base_uri": "https://localhost:8080/"
        },
        "id": "MRJ2If0eBysO",
        "outputId": "0cd011b2-4d84-4fdd-d15e-c70ef335b74f"
      },
      "execution_count": 21,
      "outputs": [
        {
          "output_type": "stream",
          "name": "stdout",
          "text": [
            "1 2 3 4 -8 -10\n",
            "[-10.  -8.   4.   3.   2.   1.]\n"
          ]
        }
      ]
    }
  ]
}